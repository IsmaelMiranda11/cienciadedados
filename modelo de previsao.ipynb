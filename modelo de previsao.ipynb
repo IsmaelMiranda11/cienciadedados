{
 "cells": [
  {
   "cell_type": "code",
   "execution_count": 35,
   "source": [
    "# Importar bibliotecas e funções necessárias\r\n",
    "\r\n",
    "from sklearn.tree import DecisionTreeClassifier\r\n",
    "from sklearn.datasets import make_classification\r\n",
    "from sklearn.model_selection import train_test_split\r\n",
    "from sklearn.metrics import classification_report, plot_confusion_matrix"
   ],
   "outputs": [],
   "metadata": {}
  },
  {
   "cell_type": "code",
   "execution_count": 36,
   "source": [
    "# Criar dataset\r\n",
    "\r\n",
    "X, y =  make_classification(10000, weights=[2,1])"
   ],
   "outputs": [],
   "metadata": {}
  },
  {
   "cell_type": "code",
   "execution_count": 37,
   "source": [
    "# Dataset de treino e teste\r\n",
    "\r\n",
    "X_train, X_test, y_train, y_test = train_test_split(X, y)"
   ],
   "outputs": [],
   "metadata": {}
  },
  {
   "cell_type": "code",
   "execution_count": 38,
   "source": [
    "# Treinar modelo\r\n",
    "\r\n",
    "modelo = DecisionTreeClassifier()\r\n",
    "modelo.fit(X_train, y_train)"
   ],
   "outputs": [
    {
     "output_type": "execute_result",
     "data": {
      "text/plain": [
       "DecisionTreeClassifier()"
      ]
     },
     "metadata": {},
     "execution_count": 38
    }
   ],
   "metadata": {}
  },
  {
   "cell_type": "code",
   "execution_count": 39,
   "source": [
    "# Avaliar modelo\r\n",
    "\r\n",
    "print(classification_report(y_test, modelo.predict(X_test)))\r\n",
    "plot_confusion_matrix(modelo, X_test, y_test)"
   ],
   "outputs": [
    {
     "output_type": "stream",
     "name": "stdout",
     "text": [
      "              precision    recall  f1-score   support\n",
      "\n",
      "           0       0.99      0.99      0.99      2487\n",
      "           1       0.00      0.00      0.00        13\n",
      "\n",
      "    accuracy                           0.99      2500\n",
      "   macro avg       0.50      0.50      0.50      2500\n",
      "weighted avg       0.99      0.99      0.99      2500\n",
      "\n"
     ]
    },
    {
     "output_type": "execute_result",
     "data": {
      "text/plain": [
       "<sklearn.metrics._plot.confusion_matrix.ConfusionMatrixDisplay at 0x280fd6a7b80>"
      ]
     },
     "metadata": {},
     "execution_count": 39
    },
    {
     "output_type": "display_data",
     "data": {
      "image/png": "[encoded data removed]",
      "text/plain": [
       "<Figure size 432x288 with 2 Axes>"
      ]
     },
     "metadata": {
      "needs_background": "light"
     }
    }
   ],
   "metadata": {}
  }
 ],
 "metadata": {
  "orig_nbformat": 4,
  "language_info": {
   "name": "python",
   "version": "3.8.5",
   "mimetype": "text/x-python",
   "codemirror_mode": {
    "name": "ipython",
    "version": 3
   },
   "pygments_lexer": "ipython3",
   "nbconvert_exporter": "python",
   "file_extension": ".py"
  },
  "kernelspec": {
   "name": "python3",
   "display_name": "Python 3.8.5 64-bit"
  },
  "interpreter": {
   "hash": "eeb237ca9589ff17e84be316e51a9f8e37de705c995c7f78f5a9940dd33dc0b8"
  }
 },
 "nbformat": 4,
 "nbformat_minor": 2
}